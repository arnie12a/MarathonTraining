{
 "cells": [
  {
   "cell_type": "code",
   "execution_count": 1,
   "metadata": {},
   "outputs": [
    {
     "data": {
      "text/html": [
       "<div>\n",
       "<style scoped>\n",
       "    .dataframe tbody tr th:only-of-type {\n",
       "        vertical-align: middle;\n",
       "    }\n",
       "\n",
       "    .dataframe tbody tr th {\n",
       "        vertical-align: top;\n",
       "    }\n",
       "\n",
       "    .dataframe thead th {\n",
       "        text-align: right;\n",
       "    }\n",
       "</style>\n",
       "<table border=\"1\" class=\"dataframe\">\n",
       "  <thead>\n",
       "    <tr style=\"text-align: right;\">\n",
       "      <th></th>\n",
       "      <th>Date</th>\n",
       "      <th>WeekNumber</th>\n",
       "      <th>DayOfWeek</th>\n",
       "      <th>WorkoutType</th>\n",
       "      <th>Distance</th>\n",
       "      <th>Time</th>\n",
       "      <th>AveragePace</th>\n",
       "      <th>Location</th>\n",
       "      <th>Weather</th>\n",
       "      <th>Effort</th>\n",
       "      <th>Notes</th>\n",
       "    </tr>\n",
       "  </thead>\n",
       "  <tbody>\n",
       "    <tr>\n",
       "      <th>0</th>\n",
       "      <td>2025-08-11</td>\n",
       "      <td>1</td>\n",
       "      <td>Monday</td>\n",
       "      <td>Easy Run</td>\n",
       "      <td>1.5</td>\n",
       "      <td>00:15:01</td>\n",
       "      <td>9'57''</td>\n",
       "      <td>South Barrington, Road</td>\n",
       "      <td>80</td>\n",
       "      <td>3</td>\n",
       "      <td>First run of marathon training. Just tried to ...</td>\n",
       "    </tr>\n",
       "  </tbody>\n",
       "</table>\n",
       "</div>"
      ],
      "text/plain": [
       "         Date  WeekNumber DayOfWeek WorkoutType  Distance      Time  \\\n",
       "0  2025-08-11           1    Monday    Easy Run       1.5  00:15:01   \n",
       "\n",
       "  AveragePace                Location  Weather  Effort  \\\n",
       "0      9'57''  South Barrington, Road       80       3   \n",
       "\n",
       "                                               Notes  \n",
       "0  First run of marathon training. Just tried to ...  "
      ]
     },
     "execution_count": 1,
     "metadata": {},
     "output_type": "execute_result"
    }
   ],
   "source": [
    "import pandas as pd\n",
    "df = pd.read_csv('runs.csv')\n",
    "df"
   ]
  },
  {
   "cell_type": "code",
   "execution_count": null,
   "metadata": {},
   "outputs": [],
   "source": []
  }
 ],
 "metadata": {
  "kernelspec": {
   "display_name": "Python 3",
   "language": "python",
   "name": "python3"
  },
  "language_info": {
   "codemirror_mode": {
    "name": "ipython",
    "version": 3
   },
   "file_extension": ".py",
   "mimetype": "text/x-python",
   "name": "python",
   "nbconvert_exporter": "python",
   "pygments_lexer": "ipython3",
   "version": "3.13.2"
  }
 },
 "nbformat": 4,
 "nbformat_minor": 2
}
